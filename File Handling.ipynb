{
 "cells": [
  {
   "cell_type": "code",
   "execution_count": 1,
   "id": "cb2fdf3c-3728-41d7-b1af-d6bd410e5f5c",
   "metadata": {},
   "outputs": [
    {
     "name": "stdout",
     "output_type": "stream",
     "text": [
      "Let's learn cool stuff.\n",
      "All about our programming journey.\n"
     ]
    }
   ],
   "source": [
    "import os\n",
    "file = open('C:/Users/lilian/Documents/Python.txt', 'r')\n",
    "print(file.read())"
   ]
  },
  {
   "cell_type": "code",
   "execution_count": 3,
   "id": "01e96f22-f788-406e-b6a8-ca3af6450968",
   "metadata": {},
   "outputs": [
    {
     "name": "stdout",
     "output_type": "stream",
     "text": [
      "Let's l\n"
     ]
    }
   ],
   "source": [
    "import os\n",
    "file = open('C:/Users/lilian/Documents/Python.txt', 'r')\n",
    "print(file.read(7))"
   ]
  },
  {
   "cell_type": "code",
   "execution_count": 5,
   "id": "9f666763-30ee-4e13-b453-2191d7fa4a1d",
   "metadata": {},
   "outputs": [
    {
     "name": "stdout",
     "output_type": "stream",
     "text": [
      "Let's learn cool stuff.\n",
      "\n"
     ]
    }
   ],
   "source": [
    "import os\n",
    "file = open('C:/Users/lilian/Documents/Python.txt', 'r')\n",
    "print(file.readline())\n",
    "file.close()"
   ]
  },
  {
   "cell_type": "code",
   "execution_count": 8,
   "id": "124c7cbb-a04f-4702-ae5a-01fa475099f5",
   "metadata": {},
   "outputs": [
    {
     "name": "stdout",
     "output_type": "stream",
     "text": [
      "[\"Let's learn cool stuff.\\n\", 'All about our programming journey.']\n"
     ]
    }
   ],
   "source": [
    "import os\n",
    "file = open('C:/Users/lilian/Documents/Python.txt', 'r')\n",
    "print(file.readlines())\n",
    "file.close()"
   ]
  },
  {
   "cell_type": "code",
   "execution_count": 10,
   "id": "60ba7a0d-94d4-4ae6-80a9-d423dbdf6259",
   "metadata": {},
   "outputs": [
    {
     "name": "stdout",
     "output_type": "stream",
     "text": [
      "Let'\n"
     ]
    }
   ],
   "source": [
    "import os\n",
    "file = open('C:/Users/lilian/Documents/Python.txt', 'r')\n",
    "print(file.readline(4))\n",
    "file.close()"
   ]
  },
  {
   "cell_type": "code",
   "execution_count": 16,
   "id": "c475a9cc-fd74-4153-a758-95bbaa52da97",
   "metadata": {},
   "outputs": [],
   "source": [
    "# to write in a file\n",
    "import os\n",
    "file = open('C:/Users/lilian/Documents/Python.txt', 'w')\n",
    "file.write('Sunday')\n",
    "file.write('Monday')\n",
    "file.close()"
   ]
  },
  {
   "cell_type": "code",
   "execution_count": 34,
   "id": "9fbf7382-02f4-4f4e-ad6b-3f5e8e0b7747",
   "metadata": {},
   "outputs": [],
   "source": [
    "#to create new file\n",
    "import os\n",
    "file = open('C:/Users/lilian/Documents/New Stuff.txt', 'x')\n",
    "file.write('Sunday.\\n')\n",
    "file.write('Monday')\n",
    "file.close()"
   ]
  },
  {
   "cell_type": "code",
   "execution_count": 38,
   "id": "7358bb2a-ac13-47ce-8c92-f376339d49f9",
   "metadata": {},
   "outputs": [],
   "source": [
    "#to remove a file\n",
    "import os\n",
    "os.remove('C:/Users/lilian/Documents/New Stuff.txt')"
   ]
  },
  {
   "cell_type": "code",
   "execution_count": 40,
   "id": "a717d7e8-b7fe-44ea-b132-5d91edf7084e",
   "metadata": {},
   "outputs": [
    {
     "name": "stdout",
     "output_type": "stream",
     "text": [
      "This file does not exist in this file path\n"
     ]
    }
   ],
   "source": [
    "# to check if a file exists\n",
    "import os\n",
    "if os.path.exists('C:/Users/lilian/Documents/Python.txt'):\n",
    "    os.remove('Python.txt')\n",
    "else:\n",
    "    print('This file does not exist in this file path')\n"
   ]
  },
  {
   "cell_type": "code",
   "execution_count": 44,
   "id": "91026008-a23c-43de-919d-d32dfa0540ee",
   "metadata": {},
   "outputs": [],
   "source": [
    "#to create new file\n",
    "import os\n",
    "file = open('C:/Users/lilian/Documents/New Stuff.txt', 'x')\n",
    "file.write('Sunday is the beginning of the week.\\n')\n",
    "file.write('Monday is the next day.\\n')\n",
    "file.write('Tuesday is another work day.\\n')\n",
    "file.close()"
   ]
  },
  {
   "cell_type": "code",
   "execution_count": 48,
   "id": "d875e618-a6be-4a77-be91-91fc96a76288",
   "metadata": {},
   "outputs": [
    {
     "name": "stdout",
     "output_type": "stream",
     "text": [
      "['Monday is the next day.\\n', 'Tuesday is another work day.\\n']\n"
     ]
    }
   ],
   "source": [
    "#to print line by line\n",
    "import os\n",
    "file = open('C:/Users/lilian/Documents/New Stuff.txt', 'r')\n",
    "for line in file:\n",
    "    print(file.readlines())\n",
    "file.close()"
   ]
  },
  {
   "cell_type": "code",
   "execution_count": null,
   "id": "2f97ddaa-001f-43ac-8494-7a9c61d13a13",
   "metadata": {},
   "outputs": [],
   "source": []
  }
 ],
 "metadata": {
  "kernelspec": {
   "display_name": "Python 3 (ipykernel)",
   "language": "python",
   "name": "python3"
  },
  "language_info": {
   "codemirror_mode": {
    "name": "ipython",
    "version": 3
   },
   "file_extension": ".py",
   "mimetype": "text/x-python",
   "name": "python",
   "nbconvert_exporter": "python",
   "pygments_lexer": "ipython3",
   "version": "3.12.4"
  }
 },
 "nbformat": 4,
 "nbformat_minor": 5
}
