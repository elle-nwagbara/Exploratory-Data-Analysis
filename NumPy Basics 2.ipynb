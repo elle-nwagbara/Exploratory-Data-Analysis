{
 "cells": [
  {
   "cell_type": "markdown",
   "id": "eca7a06a-946a-4891-9809-21563f85a6be",
   "metadata": {},
   "source": [
    "#Array Manipulation\n"
   ]
  },
  {
   "cell_type": "markdown",
   "id": "2c8d3198-1155-48aa-a879-3598ab3738f8",
   "metadata": {},
   "source": [
    "Changing Shapes"
   ]
  },
  {
   "cell_type": "code",
   "execution_count": 5,
   "id": "ceb508ac-e79d-4977-9d7a-136c9fea7f2a",
   "metadata": {},
   "outputs": [
    {
     "name": "stdout",
     "output_type": "stream",
     "text": [
      "The original array is: \n",
      "[0 1 2 3 4 5 6 7 8]\n",
      "\n",
      "The modified array is:\n",
      "[[0 1 2]\n",
      " [3 4 5]\n",
      " [6 7 8]]\n"
     ]
    }
   ],
   "source": [
    "import numpy as np\n",
    "a = np.arange(9)\n",
    "print('The original array is: ')\n",
    "print(a)\n",
    "print()\n",
    "\n",
    "b = a.reshape(3,3)\n",
    "print('The modified array is:')\n",
    "print(b)"
   ]
  },
  {
   "cell_type": "code",
   "execution_count": 9,
   "id": "57538cf4-cbb6-436f-8a8a-228c157dfc7e",
   "metadata": {},
   "outputs": [
    {
     "name": "stdout",
     "output_type": "stream",
     "text": [
      "[0 1 2 3 4 5 6 7 8]\n"
     ]
    }
   ],
   "source": [
    "# to flatten the reshaped array\n",
    "print(b.flatten())"
   ]
  },
  {
   "cell_type": "code",
   "execution_count": 15,
   "id": "00977143-0c76-4e53-a29f-9549f20c835d",
   "metadata": {},
   "outputs": [
    {
     "data": {
      "text/plain": [
       "array([0, 3, 6, 1, 4, 7, 2, 5, 8])"
      ]
     },
     "execution_count": 15,
     "metadata": {},
     "output_type": "execute_result"
    }
   ],
   "source": [
    "# F from Fortran. The default order is column first\n",
    "b.flatten(order = 'F')"
   ]
  },
  {
   "cell_type": "code",
   "execution_count": 31,
   "id": "2364843d-1ccf-4534-a969-c45b237a68e3",
   "metadata": {},
   "outputs": [
    {
     "name": "stdout",
     "output_type": "stream",
     "text": [
      "[[ 0  1  2]\n",
      " [ 3  4  5]\n",
      " [ 6  7  8]\n",
      " [ 9 10 11]]\n"
     ]
    }
   ],
   "source": [
    "# to reshape arrays\n",
    "a = np.arange(12).reshape(4,3)\n",
    "print(a)"
   ]
  },
  {
   "cell_type": "code",
   "execution_count": 21,
   "id": "59e29f20-eb24-448a-9a47-be2cd444a54b",
   "metadata": {},
   "outputs": [
    {
     "data": {
      "text/plain": [
       "array([[ 0,  3,  6,  9],\n",
       "       [ 1,  4,  7, 10],\n",
       "       [ 2,  5,  8, 11]])"
      ]
     },
     "execution_count": 21,
     "metadata": {},
     "output_type": "execute_result"
    }
   ],
   "source": [
    "np.transpose(a)\n",
    "#changes from a 3 by 4 to a 4 by 3"
   ]
  },
  {
   "cell_type": "code",
   "execution_count": 23,
   "id": "b39ec203-e326-4534-8e46-5df19d0a186c",
   "metadata": {},
   "outputs": [
    {
     "data": {
      "text/plain": [
       "array([[0, 1, 2, 3],\n",
       "       [4, 5, 6, 7]])"
      ]
     },
     "execution_count": 23,
     "metadata": {},
     "output_type": "execute_result"
    }
   ],
   "source": [
    "b = np.arange(8).reshape(2,4)\n",
    "b"
   ]
  },
  {
   "cell_type": "code",
   "execution_count": 35,
   "id": "5e6621b7-3101-4b30-9635-53b150d64e32",
   "metadata": {},
   "outputs": [
    {
     "data": {
      "text/plain": [
       "array([[[0, 1],\n",
       "        [2, 3]],\n",
       "\n",
       "       [[4, 5],\n",
       "        [6, 7]]])"
      ]
     },
     "execution_count": 35,
     "metadata": {},
     "output_type": "execute_result"
    }
   ],
   "source": [
    "c = b.reshape(2,2,2)\n",
    "c"
   ]
  },
  {
   "cell_type": "code",
   "execution_count": 37,
   "id": "ba6227e2-8093-4d8f-8bd5-85f4e8438623",
   "metadata": {},
   "outputs": [
    {
     "data": {
      "text/plain": [
       "array([[[0, 2],\n",
       "        [1, 3]],\n",
       "\n",
       "       [[4, 6],\n",
       "        [5, 7]]])"
      ]
     },
     "execution_count": 37,
     "metadata": {},
     "output_type": "execute_result"
    }
   ],
   "source": [
    "np.rollaxis(c,2,1)"
   ]
  },
  {
   "cell_type": "code",
   "execution_count": 41,
   "id": "51772cb8-4a10-4d06-8fcd-e97b549dc82e",
   "metadata": {},
   "outputs": [
    {
     "data": {
      "text/plain": [
       "array([[[0, 2],\n",
       "        [1, 3]],\n",
       "\n",
       "       [[4, 6],\n",
       "        [5, 7]]])"
      ]
     },
     "execution_count": 41,
     "metadata": {},
     "output_type": "execute_result"
    }
   ],
   "source": [
    "np.swapaxes(c,1,2)"
   ]
  },
  {
   "cell_type": "markdown",
   "id": "2d9d6590-ef20-48ae-ae8a-9e8dc908b2eb",
   "metadata": {},
   "source": [
    "NumPy Arithmetic Operations"
   ]
  },
  {
   "cell_type": "code",
   "execution_count": 44,
   "id": "707fd756-8b29-4fda-b27d-44aa3f51c539",
   "metadata": {},
   "outputs": [
    {
     "data": {
      "text/plain": [
       "array([[0, 1, 2],\n",
       "       [3, 4, 5],\n",
       "       [6, 7, 8]])"
      ]
     },
     "execution_count": 44,
     "metadata": {},
     "output_type": "execute_result"
    }
   ],
   "source": [
    "a = np.arange(9).reshape(3,3)\n",
    "a"
   ]
  },
  {
   "cell_type": "code",
   "execution_count": 56,
   "id": "05cc2b86-97e6-4a07-b72c-61995bb98be9",
   "metadata": {},
   "outputs": [
    {
     "data": {
      "text/plain": [
       "array([10, 10, 10])"
      ]
     },
     "execution_count": 56,
     "metadata": {},
     "output_type": "execute_result"
    }
   ],
   "source": [
    "b = np.array([10, 10, 10])\n",
    "b"
   ]
  },
  {
   "cell_type": "code",
   "execution_count": 58,
   "id": "162e73fb-c1e2-4c11-8457-5b77b921bfda",
   "metadata": {},
   "outputs": [
    {
     "data": {
      "text/plain": [
       "array([[10, 11, 12],\n",
       "       [13, 14, 15],\n",
       "       [16, 17, 18]])"
      ]
     },
     "execution_count": 58,
     "metadata": {},
     "output_type": "execute_result"
    }
   ],
   "source": [
    "#addition\n",
    "np.add(a,b)"
   ]
  },
  {
   "cell_type": "code",
   "execution_count": 60,
   "id": "764a682b-f1fd-4c27-ad18-affce4f8ae01",
   "metadata": {},
   "outputs": [
    {
     "data": {
      "text/plain": [
       "array([[-10,  -9,  -8],\n",
       "       [ -7,  -6,  -5],\n",
       "       [ -4,  -3,  -2]])"
      ]
     },
     "execution_count": 60,
     "metadata": {},
     "output_type": "execute_result"
    }
   ],
   "source": [
    "#subtraction\n",
    "np.subtract(a,b)"
   ]
  },
  {
   "cell_type": "code",
   "execution_count": 62,
   "id": "248dd8b3-38e0-49ec-ac91-c880456ae975",
   "metadata": {},
   "outputs": [
    {
     "data": {
      "text/plain": [
       "array([[ 0, 10, 20],\n",
       "       [30, 40, 50],\n",
       "       [60, 70, 80]])"
      ]
     },
     "execution_count": 62,
     "metadata": {},
     "output_type": "execute_result"
    }
   ],
   "source": [
    "#multiplication\n",
    "np.multiply(a,b)"
   ]
  },
  {
   "cell_type": "code",
   "execution_count": 64,
   "id": "0fae6313-b46b-470e-be60-6bddc6e05c13",
   "metadata": {},
   "outputs": [
    {
     "data": {
      "text/plain": [
       "array([[0. , 0.1, 0.2],\n",
       "       [0.3, 0.4, 0.5],\n",
       "       [0.6, 0.7, 0.8]])"
      ]
     },
     "execution_count": 64,
     "metadata": {},
     "output_type": "execute_result"
    }
   ],
   "source": [
    "#division\n",
    "np.divide(a,b)"
   ]
  },
  {
   "cell_type": "markdown",
   "id": "7e6753f7-d5ed-49c7-be08-117598d2620c",
   "metadata": {},
   "source": [
    "Slicing"
   ]
  },
  {
   "cell_type": "code",
   "execution_count": 69,
   "id": "ec88f295-69cf-44cd-9a14-6b680f7b9b1e",
   "metadata": {},
   "outputs": [
    {
     "data": {
      "text/plain": [
       "array([ 0,  1,  2,  3,  4,  5,  6,  7,  8,  9, 10, 11, 12, 13, 14, 15, 16,\n",
       "       17, 18, 19])"
      ]
     },
     "execution_count": 69,
     "metadata": {},
     "output_type": "execute_result"
    }
   ],
   "source": [
    "a = np.arange(20)\n",
    "a"
   ]
  },
  {
   "cell_type": "code",
   "execution_count": 71,
   "id": "fdc6d11b-41d4-4a03-95f1-5f2279933b58",
   "metadata": {},
   "outputs": [
    {
     "data": {
      "text/plain": [
       "array([ 4,  5,  6,  7,  8,  9, 10, 11, 12, 13, 14, 15, 16, 17, 18, 19])"
      ]
     },
     "execution_count": 71,
     "metadata": {},
     "output_type": "execute_result"
    }
   ],
   "source": [
    "#to slice off first four values\n",
    "a[4:]"
   ]
  },
  {
   "cell_type": "code",
   "execution_count": 73,
   "id": "02a7b455-70cd-492a-bd0b-e377812b47ad",
   "metadata": {},
   "outputs": [
    {
     "data": {
      "text/plain": [
       "array([0, 1, 2, 3])"
      ]
     },
     "execution_count": 73,
     "metadata": {},
     "output_type": "execute_result"
    }
   ],
   "source": [
    "#to retain only the first four values\n",
    "a[:4]"
   ]
  },
  {
   "cell_type": "code",
   "execution_count": 85,
   "id": "82c052f7-bffe-4798-a68c-571fa498bf20",
   "metadata": {},
   "outputs": [
    {
     "data": {
      "text/plain": [
       "5"
      ]
     },
     "execution_count": 85,
     "metadata": {},
     "output_type": "execute_result"
    }
   ],
   "source": [
    "a[5] #return the value stored as the sixth position since indexing starts at the zero position a[0]"
   ]
  },
  {
   "cell_type": "code",
   "execution_count": 97,
   "id": "9b3a5a61-5ab7-4f07-a4d9-0a2435ac5d7b",
   "metadata": {},
   "outputs": [
    {
     "data": {
      "text/plain": [
       "array([2, 4, 6, 8])"
      ]
     },
     "execution_count": 97,
     "metadata": {},
     "output_type": "execute_result"
    }
   ],
   "source": [
    "#slicing at specific positions, (2,9,2) means from position 2 to 9 in 2 steps\n",
    "s = slice(2,9,2)\n",
    "a[s]"
   ]
  },
  {
   "cell_type": "code",
   "execution_count": 99,
   "id": "70bbb757-f78a-4f78-bdcb-84f31010f292",
   "metadata": {},
   "outputs": [
    {
     "data": {
      "text/plain": [
       "array([2, 5, 8])"
      ]
     },
     "execution_count": 99,
     "metadata": {},
     "output_type": "execute_result"
    }
   ],
   "source": [
    "s = slice(2,9,3)\n",
    "a[s]"
   ]
  },
  {
   "cell_type": "markdown",
   "id": "eef5a925-6aee-498f-9f3a-34154596c7c6",
   "metadata": {},
   "source": [
    "Iterating Over Array"
   ]
  },
  {
   "cell_type": "code",
   "execution_count": 104,
   "id": "e78ec389-369d-4aa7-9e32-12b2fabe6cb5",
   "metadata": {},
   "outputs": [
    {
     "data": {
      "text/plain": [
       "array([[ 0,  5, 10],\n",
       "       [15, 20, 25],\n",
       "       [30, 35, 40]])"
      ]
     },
     "execution_count": 104,
     "metadata": {},
     "output_type": "execute_result"
    }
   ],
   "source": [
    "a = np.arange(0, 45, 5).reshape(3,3)\n",
    "a"
   ]
  },
  {
   "cell_type": "code",
   "execution_count": 106,
   "id": "861cae80-8d4b-472c-a507-feb026fbefa1",
   "metadata": {},
   "outputs": [
    {
     "name": "stdout",
     "output_type": "stream",
     "text": [
      "0\n",
      "5\n",
      "10\n",
      "15\n",
      "20\n",
      "25\n",
      "30\n",
      "35\n",
      "40\n"
     ]
    }
   ],
   "source": [
    "for x in np.nditer(a):\n",
    "    print(x)\n",
    "    "
   ]
  },
  {
   "cell_type": "markdown",
   "id": "dd2d1733-ac4a-42bd-9742-1c67d1412bf8",
   "metadata": {},
   "source": [
    "Iteration Order (C-Style and F-Style)"
   ]
  },
  {
   "cell_type": "code",
   "execution_count": 111,
   "id": "57706c7a-e28b-4c0b-9e53-05b4316ea474",
   "metadata": {},
   "outputs": [
    {
     "name": "stdout",
     "output_type": "stream",
     "text": [
      "[[ 0  5 10]\n",
      " [15 20 25]\n",
      " [30 35 40]]\n",
      "\n",
      "0\n",
      "5\n",
      "10\n",
      "15\n",
      "20\n",
      "25\n",
      "30\n",
      "35\n",
      "40\n",
      "\n",
      "0\n",
      "15\n",
      "30\n",
      "5\n",
      "20\n",
      "35\n",
      "10\n",
      "25\n",
      "40\n"
     ]
    }
   ],
   "source": [
    "print(a)\n",
    "print()\n",
    "for x in np.nditer(a, order = 'C'):\n",
    "    print(x)\n",
    "\n",
    "print()\n",
    "for x in np.nditer(a, order = 'F'):\n",
    "    print(x)\n"
   ]
  },
  {
   "cell_type": "markdown",
   "id": "db524d68-087c-41b5-9e35-6bac984690f0",
   "metadata": {},
   "source": [
    "Joining Arrays"
   ]
  },
  {
   "cell_type": "code",
   "execution_count": 126,
   "id": "497e633d-20e1-4d20-8f3a-778df9874863",
   "metadata": {},
   "outputs": [
    {
     "name": "stdout",
     "output_type": "stream",
     "text": [
      "First array is:\n",
      "[[1 2]\n",
      " [3 4]]\n",
      "\n",
      "\n",
      "Second array is:\n",
      "[[5 6]\n",
      " [7 8]]\n",
      "\n",
      "Joining the two arrays along axis:0 \n",
      "[[1 2]\n",
      " [3 4]\n",
      " [5 6]\n",
      " [7 8]]\n",
      "\n",
      "\n",
      "Joining the two arrays along axis:1 \n",
      "[[1 2 5 6]\n",
      " [3 4 7 8]]\n"
     ]
    }
   ],
   "source": [
    "a = np.array([[1,2], [3,4]])\n",
    "print('First array is:')\n",
    "print(a)\n",
    "print('\\n')\n",
    "\n",
    "b = np.array([[5,6], [7,8]])\n",
    "print('Second array is:')\n",
    "print(b)\n",
    "print()\n",
    "print('Joining the two arrays along axis:0 ')\n",
    "print(np.concatenate((a,b)))\n",
    "print('\\n')\n",
    "print('Joining the two arrays along axis:1 ')\n",
    "print(np.concatenate((a,b), axis =1))\n",
    "\n"
   ]
  },
  {
   "cell_type": "markdown",
   "id": "69c973f9-ea6c-4c95-9f4d-e9c1072573bc",
   "metadata": {},
   "source": [
    "Splitting Arrays"
   ]
  },
  {
   "cell_type": "code",
   "execution_count": 131,
   "id": "9b7ef67c-01f5-4dd8-9248-a383f5caad34",
   "metadata": {},
   "outputs": [
    {
     "name": "stdout",
     "output_type": "stream",
     "text": [
      "[0 1 2 3 4 5 6 7 8]\n"
     ]
    },
    {
     "data": {
      "text/plain": [
       "[array([0, 1, 2]), array([3, 4, 5]), array([6, 7, 8])]"
      ]
     },
     "execution_count": 131,
     "metadata": {},
     "output_type": "execute_result"
    }
   ],
   "source": [
    "a = np.arange(9)\n",
    "print(a)\n",
    "np.split(a,3)"
   ]
  },
  {
   "cell_type": "code",
   "execution_count": 141,
   "id": "d9c4b3e9-d74b-403d-8b1d-daaa417b7d22",
   "metadata": {},
   "outputs": [
    {
     "data": {
      "text/plain": [
       "[array([0, 1]), array([2, 3, 4]), array([5, 6]), array([7, 8])]"
      ]
     },
     "execution_count": 141,
     "metadata": {},
     "output_type": "execute_result"
    }
   ],
   "source": [
    "np.split(a,[2,5,7])"
   ]
  },
  {
   "cell_type": "markdown",
   "id": "beeb7b4c-cd75-47cc-8712-e6e483c904db",
   "metadata": {},
   "source": [
    "Resizing an Array"
   ]
  },
  {
   "cell_type": "code",
   "execution_count": 156,
   "id": "f641fb2d-8457-4afe-bde2-1bd79b5d5c89",
   "metadata": {},
   "outputs": [
    {
     "name": "stdout",
     "output_type": "stream",
     "text": [
      "[[1 2 3]\n",
      " [4 5 6]]\n",
      "(2, 3)\n",
      "\n",
      "\n",
      "[[1 2]\n",
      " [3 4]\n",
      " [5 6]]\n",
      "(3, 2)\n",
      "\n",
      "\n",
      "[[1 2 3]\n",
      " [4 5 6]\n",
      " [1 2 3]]\n",
      "(3, 3)\n"
     ]
    }
   ],
   "source": [
    "a = np.array([[1,2,3],[4,5,6]])\n",
    "print(a)\n",
    "print(a.shape)\n",
    "print('\\n')\n",
    "b = np.resize(a, (3,2))\n",
    "print(b)\n",
    "print(b.shape)\n",
    "#resizing is possible even if the array data of different arrays are not mutable, but reshaping is not.\n",
    "print('\\n')\n",
    "c = np.resize(b, (3,3))\n",
    "print(c)\n",
    "print(c.shape)\n",
    "\n"
   ]
  },
  {
   "cell_type": "markdown",
   "id": "124e4504-b89d-45c1-be6f-a19907505a0c",
   "metadata": {},
   "source": [
    "Histogram"
   ]
  },
  {
   "cell_type": "code",
   "execution_count": 160,
   "id": "d8085e05-31c1-4ac9-a954-0d6c7e060cf0",
   "metadata": {},
   "outputs": [
    {
     "data": {
      "image/png": "[encoded data removed]",
      "text/plain": [
       "<Figure size 640x480 with 1 Axes>"
      ]
     },
     "metadata": {},
     "output_type": "display_data"
    }
   ],
   "source": [
    "from matplotlib import pyplot as plt\n",
    "a = np.array([20, 87,4,23,40,54,29,37,35,65,43,2,12,45])\n",
    "plt.hist(a, bins =[0,20,40,60,80,100])\n",
    "plt.title('Histogram')\n",
    "plt.show()"
   ]
  },
  {
   "cell_type": "code",
   "execution_count": 164,
   "id": "707bf2cd-80f3-4f44-87e8-2f8b0abcc960",
   "metadata": {},
   "outputs": [
    {
     "data": {
      "image/png": "[encoded data removed]",
      "text/plain": [
       "<Figure size 640x480 with 1 Axes>"
      ]
     },
     "metadata": {},
     "output_type": "display_data"
    }
   ],
   "source": [
    "plt.hist(a, bins =[0,10,20,30,40,50,60,70,80,90,100])\n",
    "plt.title('Histogram')\n",
    "plt.show()"
   ]
  },
  {
   "cell_type": "markdown",
   "id": "f99095af-d8d2-49b3-b3fd-feb122fdb110",
   "metadata": {},
   "source": [
    "Other Useful Functions in NumPy"
   ]
  },
  {
   "cell_type": "code",
   "execution_count": 169,
   "id": "b4e9fe15-ed8a-45ae-98db-1194d5c3e3b8",
   "metadata": {},
   "outputs": [
    {
     "name": "stdout",
     "output_type": "stream",
     "text": [
      "[1.         1.22222222 1.44444444 1.66666667 1.88888889 2.11111111\n",
      " 2.33333333 2.55555556 2.77777778 3.        ]\n"
     ]
    }
   ],
   "source": [
    "#linespace function\n",
    "a = np.linspace(1,3,10)\n",
    "print(a)"
   ]
  },
  {
   "cell_type": "code",
   "execution_count": 171,
   "id": "1a4c3716-8039-4f24-8b0f-3c23006482b8",
   "metadata": {},
   "outputs": [
    {
     "name": "stdout",
     "output_type": "stream",
     "text": [
      "[5 7 9]\n"
     ]
    }
   ],
   "source": [
    "#sum and axis\n",
    "a = np.array([(1,2,3),(4,5,6)])\n",
    "print(a.sum(axis=0))"
   ]
  },
  {
   "cell_type": "code",
   "execution_count": 173,
   "id": "617263c7-5b07-42f6-b80f-e8b2c71b90f1",
   "metadata": {},
   "outputs": [
    {
     "name": "stdout",
     "output_type": "stream",
     "text": [
      "[ 6 15]\n"
     ]
    }
   ],
   "source": [
    "#sum and axis\n",
    "a = np.array([(1,2,3),(4,5,6)])\n",
    "print(a.sum(axis=1))"
   ]
  },
  {
   "cell_type": "code",
   "execution_count": 175,
   "id": "521dfc16-416b-421c-8c98-0e4b01345364",
   "metadata": {},
   "outputs": [
    {
     "name": "stdout",
     "output_type": "stream",
     "text": [
      "[[1.         1.41421356 1.73205081]\n",
      " [2.         2.23606798 2.44948974]]\n",
      "1.707825127659933\n"
     ]
    }
   ],
   "source": [
    "#square root and standard deviation\n",
    "a = np.array([(1,2,3),(4,5,6)])\n",
    "print(np.sqrt(a))\n",
    "print(np.std(a))"
   ]
  },
  {
   "cell_type": "code",
   "execution_count": 177,
   "id": "b23d70d5-d96c-4922-8083-8a9f4241486a",
   "metadata": {},
   "outputs": [
    {
     "name": "stdout",
     "output_type": "stream",
     "text": [
      "[1 2 3 4 5 6]\n"
     ]
    }
   ],
   "source": [
    "#ravel function\n",
    "import numpy as np\n",
    "x = np.array([(1,2,3),(4,5,6)])\n",
    "print(x.ravel())\n"
   ]
  },
  {
   "cell_type": "code",
   "execution_count": 179,
   "id": "9e0c515c-69a9-4295-827f-2c583613d9fc",
   "metadata": {},
   "outputs": [
    {
     "name": "stdout",
     "output_type": "stream",
     "text": [
      "[0.         0.30103    0.47712125]\n"
     ]
    }
   ],
   "source": [
    "#logarithm\n",
    "a = np.array([1,2,3])\n",
    "print(np.log10(a))"
   ]
  },
  {
   "cell_type": "markdown",
   "id": "2aa4b726-aed8-45a7-b3c0-344c8b14c76f",
   "metadata": {},
   "source": [
    "NumPy Practise Examples"
   ]
  },
  {
   "cell_type": "code",
   "execution_count": 190,
   "id": "12bda350-3d26-40ac-a505-75bf65cd7656",
   "metadata": {},
   "outputs": [
    {
     "name": "stdout",
     "output_type": "stream",
     "text": [
      "[0.  0.1 0.2 0.3 0.4 0.5 0.6 0.7 0.8 0.9 1.  1.1 1.2 1.3 1.4 1.5 1.6 1.7\n",
      " 1.8 1.9 2.  2.1 2.2 2.3 2.4 2.5 2.6 2.7 2.8 2.9 3.  3.1 3.2 3.3 3.4 3.5\n",
      " 3.6 3.7 3.8 3.9 4.  4.1 4.2 4.3 4.4 4.5 4.6 4.7 4.8 4.9 5.  5.1 5.2 5.3\n",
      " 5.4 5.5 5.6 5.7 5.8 5.9 6.  6.1 6.2 6.3 6.4 6.5 6.6 6.7 6.8 6.9 7.  7.1\n",
      " 7.2 7.3 7.4 7.5 7.6 7.7 7.8 7.9 8.  8.1 8.2 8.3 8.4 8.5 8.6 8.7 8.8 8.9\n",
      " 9.  9.1 9.2 9.3 9.4]\n",
      "[ 0.          0.09983342  0.19866933  0.29552021  0.38941834  0.47942554\n",
      "  0.56464247  0.64421769  0.71735609  0.78332691  0.84147098  0.89120736\n",
      "  0.93203909  0.96355819  0.98544973  0.99749499  0.9995736   0.99166481\n",
      "  0.97384763  0.94630009  0.90929743  0.86320937  0.8084964   0.74570521\n",
      "  0.67546318  0.59847214  0.51550137  0.42737988  0.33498815  0.23924933\n",
      "  0.14112001  0.04158066 -0.05837414 -0.15774569 -0.2555411  -0.35078323\n",
      " -0.44252044 -0.52983614 -0.61185789 -0.68776616 -0.7568025  -0.81827711\n",
      " -0.87157577 -0.91616594 -0.95160207 -0.97753012 -0.993691   -0.99992326\n",
      " -0.99616461 -0.98245261 -0.95892427 -0.92581468 -0.88345466 -0.83226744\n",
      " -0.77276449 -0.70554033 -0.63126664 -0.55068554 -0.46460218 -0.37387666\n",
      " -0.2794155  -0.1821625  -0.0830894   0.0168139   0.1165492   0.21511999\n",
      "  0.31154136  0.40484992  0.49411335  0.57843976  0.6569866   0.72896904\n",
      "  0.79366786  0.85043662  0.8987081   0.93799998  0.96791967  0.98816823\n",
      "  0.99854335  0.99894134  0.98935825  0.96988981  0.94073056  0.90217183\n",
      "  0.85459891  0.79848711  0.7343971   0.66296923  0.58491719  0.50102086\n",
      "  0.41211849  0.31909836  0.22288991  0.12445442  0.02477543]\n"
     ]
    },
    {
     "data": {
      "image/png": "[encoded data removed]",
      "text/plain": [
       "<Figure size 640x480 with 1 Axes>"
      ]
     },
     "metadata": {},
     "output_type": "display_data"
    }
   ],
   "source": [
    "#Using numpy and matplotlib to plot a sin graph\n",
    "import numpy as np\n",
    "import matplotlib.pyplot as plt\n",
    "\n",
    "x = np.arange(0,3*np.pi,0.1)\n",
    "y = np.sin(x)\n",
    "print(x)\n",
    "print(y)\n",
    "plt.plot(x,y)\n",
    "plt.show()"
   ]
  },
  {
   "cell_type": "code",
   "execution_count": 206,
   "id": "d27acb3b-90ff-468e-9e16-d4cb127ad25b",
   "metadata": {},
   "outputs": [
    {
     "data": {
      "text/plain": [
       "array([[0, 1, 0, 1, 0, 1],\n",
       "       [1, 0, 1, 0, 1, 0],\n",
       "       [0, 1, 0, 1, 0, 1],\n",
       "       [1, 0, 1, 0, 1, 0],\n",
       "       [0, 1, 0, 1, 0, 1],\n",
       "       [1, 0, 1, 0, 1, 0]])"
      ]
     },
     "execution_count": 206,
     "metadata": {},
     "output_type": "execute_result"
    }
   ],
   "source": [
    "#Create a 6*6 2-dimensional array with 1 and 0 placed alternatively across the diagonals\n",
    "z = np.zeros((6,6), dtype=int)\n",
    "z[1::2,::2] = 1\n",
    "z[::2,1::2] = 1\n",
    "z"
   ]
  },
  {
   "cell_type": "code",
   "execution_count": 214,
   "id": "da10f8e3-29d8-41e6-9d3f-b23b8f8bfdfc",
   "metadata": {
    "scrolled": true
   },
   "outputs": [
    {
     "data": {
      "text/plain": [
       "array([[0.92141781, 0.89190977, 0.17300808, 0.70783065, 0.2339729 ,\n",
       "        0.52506398, 0.27113474, 0.01808454, 0.63642733, 0.03179707],\n",
       "       [0.0448144 , 0.01462346, 0.06396179, 0.94140645, 0.07489994,\n",
       "        0.28800242, 0.30145607, 0.29613073, 0.28295347, 0.01875654],\n",
       "       [0.28506875, 0.73749489, 0.85929226, 0.30379791, 0.25594712,\n",
       "        0.17652286, 0.80589327, 0.5730866 , 0.03937397, 0.51661402],\n",
       "       [0.60742075, 0.07553606,        nan, 0.65986995, 0.21704858,\n",
       "        0.51744879, 0.36782657, 0.59990334, 0.92509374, 0.233053  ],\n",
       "       [0.34913338, 0.08003727, 0.58636903, 0.18015377, 0.9336969 ,\n",
       "        0.26770671, 0.07308323, 0.66234823, 0.59489558, 0.7099678 ],\n",
       "       [0.13618698, 0.27344674, 0.4375121 ,        nan, 0.76882114,\n",
       "        0.85592594, 0.35117737, 0.51511921, 0.59210522,        nan],\n",
       "       [0.88207881, 0.28666437, 0.05551056, 0.73720499, 0.32405   ,\n",
       "        0.64714234, 0.54310339, 0.01039253, 0.22388558, 0.21654837],\n",
       "       [0.01852865, 0.01272284, 0.88396279, 0.9053898 , 0.79915304,\n",
       "        0.87396504, 0.51015812, 0.10107043, 0.62556414, 0.25018626],\n",
       "       [0.46250821, 0.24164813, 0.68643092, 0.40219496, 0.89669749,\n",
       "        0.25364508, 0.83263632, 0.25102794, 0.40034263, 0.53733338],\n",
       "       [       nan, 0.84930572, 0.64825996, 0.31482536, 0.29912907,\n",
       "        0.64156291, 0.46017987, 0.44105919, 0.48872171,        nan]])"
      ]
     },
     "execution_count": 214,
     "metadata": {},
     "output_type": "execute_result"
    }
   ],
   "source": [
    "# Find the total number and locations of missing values in the array\n",
    "z = np.random.rand(10,10)\n",
    "z[np.random.randint(10, size=5), np.random.randint(10,size=5)] = np.nan\n",
    "z"
   ]
  },
  {
   "cell_type": "code",
   "execution_count": 222,
   "id": "2141d44f-710b-4ce7-986e-19bfb57a7703",
   "metadata": {},
   "outputs": [
    {
     "name": "stdout",
     "output_type": "stream",
     "text": [
      "Total number of missing values is: \n",
      " 0\n",
      "Indexes of missing values: \n",
      " []\n",
      "(array([], dtype=int64), array([], dtype=int64))\n"
     ]
    },
    {
     "data": {
      "text/plain": [
       "array([[0.92141781, 0.89190977, 0.17300808, 0.70783065, 0.2339729 ,\n",
       "        0.52506398, 0.27113474, 0.01808454, 0.63642733, 0.03179707],\n",
       "       [0.0448144 , 0.01462346, 0.06396179, 0.94140645, 0.07489994,\n",
       "        0.28800242, 0.30145607, 0.29613073, 0.28295347, 0.01875654],\n",
       "       [0.28506875, 0.73749489, 0.85929226, 0.30379791, 0.25594712,\n",
       "        0.17652286, 0.80589327, 0.5730866 , 0.03937397, 0.51661402],\n",
       "       [0.60742075, 0.07553606, 0.        , 0.65986995, 0.21704858,\n",
       "        0.51744879, 0.36782657, 0.59990334, 0.92509374, 0.233053  ],\n",
       "       [0.34913338, 0.08003727, 0.58636903, 0.18015377, 0.9336969 ,\n",
       "        0.26770671, 0.07308323, 0.66234823, 0.59489558, 0.7099678 ],\n",
       "       [0.13618698, 0.27344674, 0.4375121 , 0.        , 0.76882114,\n",
       "        0.85592594, 0.35117737, 0.51511921, 0.59210522, 0.        ],\n",
       "       [0.88207881, 0.28666437, 0.05551056, 0.73720499, 0.32405   ,\n",
       "        0.64714234, 0.54310339, 0.01039253, 0.22388558, 0.21654837],\n",
       "       [0.01852865, 0.01272284, 0.88396279, 0.9053898 , 0.79915304,\n",
       "        0.87396504, 0.51015812, 0.10107043, 0.62556414, 0.25018626],\n",
       "       [0.46250821, 0.24164813, 0.68643092, 0.40219496, 0.89669749,\n",
       "        0.25364508, 0.83263632, 0.25102794, 0.40034263, 0.53733338],\n",
       "       [0.        , 0.84930572, 0.64825996, 0.31482536, 0.29912907,\n",
       "        0.64156291, 0.46017987, 0.44105919, 0.48872171, 0.        ]])"
      ]
     },
     "execution_count": 222,
     "metadata": {},
     "output_type": "execute_result"
    }
   ],
   "source": [
    "print('Total number of missing values is: \\n', np.isnan(z).sum())\n",
    "print('Indexes of missing values: \\n', np.argwhere(np.isnan(z)))\n",
    "inds = np.where(np.isnan(z))\n",
    "print(inds)\n",
    "z[inds] = 0 #replaces the random numbers with 0\n",
    "z"
   ]
  },
  {
   "cell_type": "code",
   "execution_count": null,
   "id": "3ec0ad3f-d692-4fae-baf1-5c8aa2788894",
   "metadata": {},
   "outputs": [],
   "source": []
  }
 ],
 "metadata": {
  "kernelspec": {
   "display_name": "Python 3 (ipykernel)",
   "language": "python",
   "name": "python3"
  },
  "language_info": {
   "codemirror_mode": {
    "name": "ipython",
    "version": 3
   },
   "file_extension": ".py",
   "mimetype": "text/x-python",
   "name": "python",
   "nbconvert_exporter": "python",
   "pygments_lexer": "ipython3",
   "version": "3.12.4"
  }
 },
 "nbformat": 4,
 "nbformat_minor": 5
}
