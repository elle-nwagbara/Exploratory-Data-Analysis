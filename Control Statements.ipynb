{
 "cells": [
  {
   "cell_type": "code",
   "execution_count": 3,
   "id": "c376c02b-30ad-405d-bcfa-0028b0fb3a4e",
   "metadata": {},
   "outputs": [
    {
     "name": "stdout",
     "output_type": "stream",
     "text": [
      "Letter:  p\n",
      "Letter:  r\n",
      "Letter:  o\n",
      "Letter:  g\n",
      "Letter:  r\n",
      "Letter:  a\n",
      "Letter:  m\n",
      "Letter:  m\n",
      "Letter:  n\n",
      "Letter:  g\n",
      "End of execution\n"
     ]
    }
   ],
   "source": [
    "# Continue Statement\n",
    "for letters in 'programming':\n",
    "    if letters == 'i':\n",
    "        continue\n",
    "    print('Letter: ', letters)\n",
    "print('End of execution')"
   ]
  },
  {
   "cell_type": "code",
   "execution_count": 7,
   "id": "66dc19f8-abc8-403a-a4a6-6f2c04377cd5",
   "metadata": {},
   "outputs": [
    {
     "name": "stdout",
     "output_type": "stream",
     "text": [
      "17\n",
      "47\n",
      "39\n"
     ]
    }
   ],
   "source": [
    "for num in [10, 17, 30, 47, 60, 39]:\n",
    "    if num%2 == 0:\n",
    "        continue\n",
    "    print(num)"
   ]
  },
  {
   "cell_type": "code",
   "execution_count": 13,
   "id": "04e7f532-ee3e-4072-bfea-bfb72693ab51",
   "metadata": {},
   "outputs": [
    {
     "name": "stdout",
     "output_type": "stream",
     "text": [
      "1\n",
      "2\n",
      "3\n",
      "4\n",
      "5\n",
      "End of execution\n"
     ]
    }
   ],
   "source": [
    "# Break statement\n",
    "\n",
    "num = (1, 2, 3, 4, 5, 6, 7, 8, 9)\n",
    "count = 0\n",
    "while(count < 9):\n",
    "    print(num[count])\n",
    "    count = count + 1\n",
    "    if count == 5:\n",
    "        break\n",
    "print('End of execution')"
   ]
  },
  {
   "cell_type": "code",
   "execution_count": 15,
   "id": "fec2e35b-7327-46a4-a53d-44269c12956e",
   "metadata": {},
   "outputs": [
    {
     "name": "stdout",
     "output_type": "stream",
     "text": [
      "Letter:  p\n",
      "Letter:  r\n",
      "Letter:  o\n",
      "Letter:  g\n",
      "Letter:  r\n",
      "Letter:  a\n",
      "Letter:  m\n"
     ]
    }
   ],
   "source": [
    "for letters in 'programming':\n",
    "    print('Letter: ', letters)\n",
    "    if letters == 'm':\n",
    "        break"
   ]
  },
  {
   "cell_type": "code",
   "execution_count": 17,
   "id": "5de638dd-22d2-4fad-af8d-14e8e80cd5aa",
   "metadata": {},
   "outputs": [
    {
     "name": "stdout",
     "output_type": "stream",
     "text": [
      "The number is:  20\n",
      "The number is:  22\n",
      "The number is:  24\n",
      "The number is:  26\n",
      "The number is:  28\n",
      "The number is:  30\n",
      "The number is:  32\n",
      "The number is:  34\n"
     ]
    }
   ],
   "source": [
    "# Pass Statement\n",
    "\n",
    "for number in range(20, 35):\n",
    "    if (number % 2 != 0):\n",
    "        pass\n",
    "    else:\n",
    "        print('The number is: ', number)"
   ]
  },
  {
   "cell_type": "code",
   "execution_count": null,
   "id": "4bb23a0f-11ec-4992-9ae0-98e23c550dc0",
   "metadata": {},
   "outputs": [],
   "source": [
    "def print_num(number):\n",
    "    if number is 10:\n",
    "        pass\n",
    "    else:\n",
    "        print('The number is: ', number)"
   ]
  },
  {
   "cell_type": "code",
   "execution_count": 21,
   "id": "c77f0798-05ab-469c-bf90-b8c68d0ad305",
   "metadata": {},
   "outputs": [
    {
     "name": "stdout",
     "output_type": "stream",
     "text": [
      "The number is:  20\n"
     ]
    }
   ],
   "source": [
    "print_num(20)"
   ]
  },
  {
   "cell_type": "code",
   "execution_count": 25,
   "id": "430cc60b-fd55-47d7-9a8f-9dd25242b58c",
   "metadata": {},
   "outputs": [],
   "source": [
    "print_num(10)"
   ]
  }
 ],
 "metadata": {
  "kernelspec": {
   "display_name": "Python 3 (ipykernel)",
   "language": "python",
   "name": "python3"
  },
  "language_info": {
   "codemirror_mode": {
    "name": "ipython",
    "version": 3
   },
   "file_extension": ".py",
   "mimetype": "text/x-python",
   "name": "python",
   "nbconvert_exporter": "python",
   "pygments_lexer": "ipython3",
   "version": "3.12.4"
  }
 },
 "nbformat": 4,
 "nbformat_minor": 5
}
