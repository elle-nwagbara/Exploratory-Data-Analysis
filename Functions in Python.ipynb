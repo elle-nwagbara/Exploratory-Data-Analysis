{
 "cells": [
  {
   "cell_type": "code",
   "execution_count": 7,
   "id": "1b1627a9-6f23-47e5-a35b-2defa5537c27",
   "metadata": {},
   "outputs": [
    {
     "data": {
      "text/plain": [
       "10.75"
      ]
     },
     "execution_count": 7,
     "metadata": {},
     "output_type": "execute_result"
    }
   ],
   "source": [
    "# Built-in functions\n",
    "#abs\n",
    "a = abs(10.75)\n",
    "a"
   ]
  },
  {
   "cell_type": "code",
   "execution_count": 5,
   "id": "136effbb-cf97-47a9-a963-99c7ab606521",
   "metadata": {},
   "outputs": [
    {
     "data": {
      "text/plain": [
       "10.75"
      ]
     },
     "execution_count": 5,
     "metadata": {},
     "output_type": "execute_result"
    }
   ],
   "source": [
    "b = abs(-10.75)\n",
    "b"
   ]
  },
  {
   "cell_type": "code",
   "execution_count": 9,
   "id": "c0efad78-a4b0-4a14-a263-1b9ea4315adf",
   "metadata": {},
   "outputs": [
    {
     "data": {
      "text/plain": [
       "7"
      ]
     },
     "execution_count": 9,
     "metadata": {},
     "output_type": "execute_result"
    }
   ],
   "source": [
    "# Len\n",
    "\n",
    "list1 = ['N', 'I', 'G', 'E', 'R', 'I', 'A']\n",
    "X = len(list1)\n",
    "X"
   ]
  },
  {
   "cell_type": "code",
   "execution_count": 13,
   "id": "a43e0333-dc00-4246-9419-5fbc95dfc625",
   "metadata": {},
   "outputs": [
    {
     "data": {
      "text/plain": [
       "False"
      ]
     },
     "execution_count": 13,
     "metadata": {},
     "output_type": "execute_result"
    }
   ],
   "source": [
    "# all\n",
    "my_list = [0, 2, 0]\n",
    "X = all(my_list)\n",
    "X"
   ]
  },
  {
   "cell_type": "code",
   "execution_count": 15,
   "id": "7f072948-4a7a-4df5-896f-aa6e4c5b61fa",
   "metadata": {},
   "outputs": [
    {
     "name": "stdout",
     "output_type": "stream",
     "text": [
      "115\n",
      "10\n"
     ]
    }
   ],
   "source": [
    "# sum\n",
    "s = sum([10, 70, 35])\n",
    "s1 = sum((1,4,5))\n",
    "print(s)\n",
    "print(s1)"
   ]
  },
  {
   "cell_type": "code",
   "execution_count": 19,
   "id": "821e9d89-a7c2-4752-b84a-46af0f063017",
   "metadata": {},
   "outputs": [
    {
     "name": "stdout",
     "output_type": "stream",
     "text": [
      "45\n"
     ]
    }
   ],
   "source": [
    "# max and min work for lists, tuples, and dictionaries\n",
    "m1 = max(7, 10, 3, 45, 23, 44)\n",
    "print(m1)"
   ]
  },
  {
   "cell_type": "code",
   "execution_count": 21,
   "id": "08f8872b-7e56-47b2-a9cb-839675bc3f20",
   "metadata": {},
   "outputs": [
    {
     "name": "stdout",
     "output_type": "stream",
     "text": [
      "53\n"
     ]
    }
   ],
   "source": [
    "m2 = max({47, 10, 53, 45, 23, 44})\n",
    "print(m2)"
   ]
  },
  {
   "cell_type": "code",
   "execution_count": 23,
   "id": "22e6b989-defe-4019-9100-da9c8fb35be9",
   "metadata": {},
   "outputs": [
    {
     "name": "stdout",
     "output_type": "stream",
     "text": [
      "10\n"
     ]
    }
   ],
   "source": [
    "m3 = min({47, 10, 53, 45, 23, 44})\n",
    "print(m3)"
   ]
  },
  {
   "cell_type": "code",
   "execution_count": 25,
   "id": "0dc290c2-3db1-4827-bcc9-82ff4029f549",
   "metadata": {},
   "outputs": [
    {
     "name": "stdout",
     "output_type": "stream",
     "text": [
      "N\n"
     ]
    }
   ],
   "source": [
    "# iter statement\n",
    "mylist = iter(['N', 'I', 'G', 'E', 'R', 'I', 'A'])\n",
    "X = next(mylist)\n",
    "print(X)"
   ]
  },
  {
   "cell_type": "code",
   "execution_count": 27,
   "id": "48a4e282-9f1f-4286-a830-5dc9d176073d",
   "metadata": {},
   "outputs": [
    {
     "name": "stdout",
     "output_type": "stream",
     "text": [
      "I\n"
     ]
    }
   ],
   "source": [
    "X = next(mylist)\n",
    "print(X)"
   ]
  },
  {
   "cell_type": "code",
   "execution_count": 29,
   "id": "d5ef713c-971d-4573-aa78-32cbbf74c984",
   "metadata": {},
   "outputs": [
    {
     "name": "stdout",
     "output_type": "stream",
     "text": [
      "G\n"
     ]
    }
   ],
   "source": [
    "X = next(mylist)\n",
    "print(X)"
   ]
  },
  {
   "cell_type": "code",
   "execution_count": 31,
   "id": "55abe324-351e-40b3-b2b5-699fe786d769",
   "metadata": {},
   "outputs": [
    {
     "name": "stdout",
     "output_type": "stream",
     "text": [
      "27\n",
      "16\n"
     ]
    }
   ],
   "source": [
    "# pow()\n",
    "\n",
    "x1 = pow(3, 3)\n",
    "x2 = pow(2, 4)\n",
    "print(x1)\n",
    "print(x2)"
   ]
  },
  {
   "cell_type": "code",
   "execution_count": 33,
   "id": "a081e129-5af1-418b-896e-08722d9a5c7e",
   "metadata": {},
   "outputs": [
    {
     "name": "stdout",
     "output_type": "stream",
     "text": [
      "0\n",
      "1\n",
      "2\n",
      "3\n",
      "4\n",
      "5\n"
     ]
    }
   ],
   "source": [
    "# range()\n",
    "x = range(6)\n",
    "for n in x:\n",
    "    print(n)"
   ]
  },
  {
   "cell_type": "code",
   "execution_count": 35,
   "id": "7a436822-f928-4b19-a5ab-dc1da42d54c1",
   "metadata": {},
   "outputs": [
    {
     "name": "stdout",
     "output_type": "stream",
     "text": [
      "40\n",
      "42\n",
      "44\n",
      "46\n",
      "48\n"
     ]
    }
   ],
   "source": [
    "x = range(40, 50, 2)\n",
    "for n in x:\n",
    "    print(n)"
   ]
  },
  {
   "cell_type": "code",
   "execution_count": 41,
   "id": "16ad6b9f-6a6e-4853-ad36-99aa387209b2",
   "metadata": {},
   "outputs": [
    {
     "name": "stdout",
     "output_type": "stream",
     "text": [
      "8.64\n"
     ]
    }
   ],
   "source": [
    "# round()\n",
    "x = round(8.637233, 2)\n",
    "print(x)"
   ]
  },
  {
   "cell_type": "code",
   "execution_count": 43,
   "id": "e48534e3-5690-4355-827a-9ecf1ce25128",
   "metadata": {},
   "outputs": [
    {
     "name": "stdout",
     "output_type": "stream",
     "text": [
      "['A', 'E', 'G', 'I', 'I', 'N', 'N', 'R']\n"
     ]
    }
   ],
   "source": [
    "# sorted\n",
    "a = ['N', 'I', 'G', 'E', 'R', 'I', 'A','N']\n",
    "x = sorted(a)\n",
    "print(x)"
   ]
  },
  {
   "cell_type": "code",
   "execution_count": 45,
   "id": "702d5590-2aed-44b8-920c-6cc9013f1445",
   "metadata": {},
   "outputs": [
    {
     "name": "stdout",
     "output_type": "stream",
     "text": [
      "['R', 'N', 'N', 'I', 'I', 'G', 'E', 'A']\n"
     ]
    }
   ],
   "source": [
    "a = ['N', 'I', 'G', 'E', 'R', 'I', 'A','N']\n",
    "x = sorted(a, reverse = True)\n",
    "print(x)"
   ]
  },
  {
   "cell_type": "code",
   "execution_count": 47,
   "id": "5e938b7e-84ff-4f9f-83ad-cfc7860f6eb3",
   "metadata": {},
   "outputs": [
    {
     "name": "stdout",
     "output_type": "stream",
     "text": [
      "[2, 4, 34, 43, 556]\n"
     ]
    }
   ],
   "source": [
    "a = [2, 4, 34, 556, 43]\n",
    "x = sorted(a)\n",
    "print(x)"
   ]
  },
  {
   "cell_type": "code",
   "execution_count": 49,
   "id": "7db58a1c-a311-4b2f-8f6c-fc99090e1b7c",
   "metadata": {},
   "outputs": [
    {
     "name": "stdout",
     "output_type": "stream",
     "text": [
      "[556, 43, 34, 4, 2]\n"
     ]
    }
   ],
   "source": [
    "x = sorted(a, reverse = True)\n",
    "print(x)"
   ]
  },
  {
   "cell_type": "code",
   "execution_count": 55,
   "id": "b650c8c2-14a1-4952-be11-40a18ea8202a",
   "metadata": {},
   "outputs": [
    {
     "name": "stdout",
     "output_type": "stream",
     "text": [
      "('p', 'r', 'o', 'g', 'r', 'a', 'm')\n"
     ]
    }
   ],
   "source": [
    "# slice\n",
    "a = ('p', 'r', 'o', 'g', 'r', 'a', 'm', 'm', 'i', 'n', 'g')\n",
    "x = slice(7)\n",
    "print(a[x])"
   ]
  },
  {
   "cell_type": "code",
   "execution_count": 57,
   "id": "315a1e8d-fff1-4c3b-9eb1-c4e46cb30004",
   "metadata": {},
   "outputs": [
    {
     "name": "stdout",
     "output_type": "stream",
     "text": [
      "Hello World\n"
     ]
    }
   ],
   "source": [
    "# user-defined functions\n",
    "def func1():\n",
    "    print('Hello World')\n",
    "func1()"
   ]
  },
  {
   "cell_type": "code",
   "execution_count": 63,
   "id": "3eb66f38-bee8-4e22-aae0-10a199a91124",
   "metadata": {},
   "outputs": [],
   "source": [
    "def hello():\n",
    "    name = str(input('Enter your first name: '))\n",
    "    print('Hello ' + str(name) + ',')"
   ]
  },
  {
   "cell_type": "code",
   "execution_count": 65,
   "id": "159f8066-e06e-435b-9965-53148114aae0",
   "metadata": {},
   "outputs": [
    {
     "name": "stdin",
     "output_type": "stream",
     "text": [
      "Enter your first name:  Lilian\n"
     ]
    },
    {
     "name": "stdout",
     "output_type": "stream",
     "text": [
      "Hello Lilian,\n"
     ]
    }
   ],
   "source": [
    "hello()"
   ]
  },
  {
   "cell_type": "code",
   "execution_count": 67,
   "id": "7a259f06-6375-4342-bdef-07be956f4756",
   "metadata": {},
   "outputs": [],
   "source": [
    "def ft_to_cm(ft):\n",
    "    centimeter = ft * 30.48\n",
    "    return centimeter"
   ]
  },
  {
   "cell_type": "code",
   "execution_count": 75,
   "id": "28bb96dc-373d-4757-9306-f9e50da1640f",
   "metadata": {},
   "outputs": [
    {
     "data": {
      "text/plain": [
       "158.496"
      ]
     },
     "execution_count": 75,
     "metadata": {},
     "output_type": "execute_result"
    }
   ],
   "source": [
    "ft_to_cm(5.2)"
   ]
  },
  {
   "cell_type": "code",
   "execution_count": 80,
   "id": "66db6eac-a472-40ae-a46f-3ff3d8382f4b",
   "metadata": {},
   "outputs": [],
   "source": [
    "def add(x, y):\n",
    "    sum = x + y\n",
    "    print(sum)"
   ]
  },
  {
   "cell_type": "code",
   "execution_count": 82,
   "id": "8021c283-f65e-4493-80fa-6d300306925b",
   "metadata": {},
   "outputs": [
    {
     "name": "stdout",
     "output_type": "stream",
     "text": [
      "100\n"
     ]
    }
   ],
   "source": [
    "add(40, 60)"
   ]
  },
  {
   "cell_type": "code",
   "execution_count": 84,
   "id": "7a4f612e-d8a1-443b-9e06-db1b1b377814",
   "metadata": {},
   "outputs": [
    {
     "name": "stdout",
     "output_type": "stream",
     "text": [
      "20\n"
     ]
    }
   ],
   "source": [
    "add(-20, 40)"
   ]
  },
  {
   "cell_type": "code",
   "execution_count": 90,
   "id": "a8a6f1d2-d1d8-4574-845c-5d7557b6a0ef",
   "metadata": {},
   "outputs": [],
   "source": [
    "def multiply(x, y):\n",
    "    product = x * y\n",
    "    print(product)"
   ]
  },
  {
   "cell_type": "code",
   "execution_count": 92,
   "id": "30ed7cfb-72ab-437d-a3f3-43c473bdfa49",
   "metadata": {},
   "outputs": [
    {
     "name": "stdout",
     "output_type": "stream",
     "text": [
      "21\n"
     ]
    }
   ],
   "source": [
    "multiply(3, 7)"
   ]
  },
  {
   "cell_type": "code",
   "execution_count": 94,
   "id": "dd52f19c-b216-406a-b23b-e8cba979486a",
   "metadata": {},
   "outputs": [],
   "source": [
    "def absolute(x):\n",
    "    if x>= 0:\n",
    "        return x\n",
    "    else:\n",
    "        return -x"
   ]
  },
  {
   "cell_type": "code",
   "execution_count": 96,
   "id": "c3bdfd20-1687-41ef-b8d3-48253d03ea57",
   "metadata": {},
   "outputs": [
    {
     "data": {
      "text/plain": [
       "23.9383"
      ]
     },
     "execution_count": 96,
     "metadata": {},
     "output_type": "execute_result"
    }
   ],
   "source": [
    "absolute(23.9383)"
   ]
  },
  {
   "cell_type": "code",
   "execution_count": 98,
   "id": "1d004655-6a3b-4e44-9592-022861e39d87",
   "metadata": {},
   "outputs": [
    {
     "name": "stdout",
     "output_type": "stream",
     "text": [
      "23.898\n"
     ]
    }
   ],
   "source": [
    "print(absolute(-23.898))"
   ]
  },
  {
   "cell_type": "code",
   "execution_count": 108,
   "id": "6502b97d-18d3-44e7-9034-dae4a7183f7e",
   "metadata": {},
   "outputs": [],
   "source": [
    "def factorial(x):\n",
    "    if x == 0:\n",
    "        return 1\n",
    "    else:\n",
    "        return x * factorial (x-1)"
   ]
  },
  {
   "cell_type": "code",
   "execution_count": 110,
   "id": "741d96eb-2123-4021-aadb-cb770e718363",
   "metadata": {},
   "outputs": [
    {
     "data": {
      "text/plain": [
       "120"
      ]
     },
     "execution_count": 110,
     "metadata": {},
     "output_type": "execute_result"
    }
   ],
   "source": [
    "factorial(5)"
   ]
  },
  {
   "cell_type": "code",
   "execution_count": 116,
   "id": "5812857d-6053-4613-b336-0c496a4532d6",
   "metadata": {},
   "outputs": [],
   "source": [
    "# default argument\n",
    "def welcome(name = 'Lilian'):\n",
    "    print('Hello', name)"
   ]
  },
  {
   "cell_type": "code",
   "execution_count": 114,
   "id": "757a0151-efce-4c16-91d0-8e723b20664c",
   "metadata": {},
   "outputs": [
    {
     "name": "stdout",
     "output_type": "stream",
     "text": [
      "Hello Lilian\n"
     ]
    }
   ],
   "source": [
    "welcome()"
   ]
  },
  {
   "cell_type": "code",
   "execution_count": 118,
   "id": "e44a2de5-ff71-432e-8d3d-3fc4c71293fe",
   "metadata": {},
   "outputs": [
    {
     "name": "stdout",
     "output_type": "stream",
     "text": [
      "Hello Raji\n"
     ]
    }
   ],
   "source": [
    "welcome('Raji')"
   ]
  },
  {
   "cell_type": "code",
   "execution_count": 138,
   "id": "68e99318-22a6-4da6-8c56-702bfcfa44b4",
   "metadata": {},
   "outputs": [],
   "source": [
    "# multiple arguments\n",
    "def message(name1, name2, name3):\n",
    "    print(\"Hello\", name1, \", please tell \", name2, \"that \", name3, \"is waiting!\")"
   ]
  },
  {
   "cell_type": "code",
   "execution_count": 140,
   "id": "b8c5df0d-f7c7-4bd5-ad04-0f05fd309a0c",
   "metadata": {},
   "outputs": [
    {
     "name": "stdout",
     "output_type": "stream",
     "text": [
      "Hello Lilian , please tell  Rachel that  Goody is waiting!\n"
     ]
    }
   ],
   "source": [
    "message('Lilian', 'Rachel', 'Goody')"
   ]
  },
  {
   "cell_type": "code",
   "execution_count": 142,
   "id": "718c02bd-bc8b-4d90-8234-14537759eef3",
   "metadata": {},
   "outputs": [
    {
     "name": "stdout",
     "output_type": "stream",
     "text": [
      "7\n"
     ]
    }
   ],
   "source": [
    "# Scope\n",
    "def func3():\n",
    "    z = 7\n",
    "    print(z)\n",
    "func3()"
   ]
  },
  {
   "cell_type": "code",
   "execution_count": 144,
   "id": "ad308524-a9d7-4a89-86fe-6abb7149f2cc",
   "metadata": {},
   "outputs": [
    {
     "ename": "NameError",
     "evalue": "name 'z' is not defined",
     "output_type": "error",
     "traceback": [
      "\u001b[1;31m---------------------------------------------------------------------------\u001b[0m",
      "\u001b[1;31mNameError\u001b[0m                                 Traceback (most recent call last)",
      "Cell \u001b[1;32mIn[144], line 1\u001b[0m\n\u001b[1;32m----> 1\u001b[0m z\n",
      "\u001b[1;31mNameError\u001b[0m: name 'z' is not defined"
     ]
    }
   ],
   "source": [
    "z"
   ]
  },
  {
   "cell_type": "code",
   "execution_count": 148,
   "id": "5a4d8105-8be1-410e-8434-48d766297cf3",
   "metadata": {},
   "outputs": [
    {
     "name": "stdout",
     "output_type": "stream",
     "text": [
      "7\n"
     ]
    }
   ],
   "source": [
    "#to make z a global variable and not limited to the defined function\n",
    "z = 7\n",
    "def func4():\n",
    "\n",
    "    print(z)\n",
    "func4()"
   ]
  },
  {
   "cell_type": "code",
   "execution_count": 150,
   "id": "a099029b-9f9c-422c-9813-9a14fd0df757",
   "metadata": {},
   "outputs": [
    {
     "data": {
      "text/plain": [
       "7"
      ]
     },
     "execution_count": 150,
     "metadata": {},
     "output_type": "execute_result"
    }
   ],
   "source": [
    "z"
   ]
  },
  {
   "cell_type": "code",
   "execution_count": 152,
   "id": "7a55e654-c303-4190-b717-bf41637c3996",
   "metadata": {},
   "outputs": [
    {
     "ename": "UnboundLocalError",
     "evalue": "cannot access local variable 'z' where it is not associated with a value",
     "output_type": "error",
     "traceback": [
      "\u001b[1;31m---------------------------------------------------------------------------\u001b[0m",
      "\u001b[1;31mUnboundLocalError\u001b[0m                         Traceback (most recent call last)",
      "Cell \u001b[1;32mIn[152], line 6\u001b[0m\n\u001b[0;32m      4\u001b[0m     z \u001b[38;5;241m=\u001b[39m z \u001b[38;5;241m+\u001b[39m \u001b[38;5;241m1\u001b[39m\n\u001b[0;32m      5\u001b[0m     \u001b[38;5;28mprint\u001b[39m(z)\n\u001b[1;32m----> 6\u001b[0m func5()\n",
      "Cell \u001b[1;32mIn[152], line 4\u001b[0m, in \u001b[0;36mfunc5\u001b[1;34m()\u001b[0m\n\u001b[0;32m      3\u001b[0m \u001b[38;5;28;01mdef\u001b[39;00m \u001b[38;5;21mfunc5\u001b[39m():\n\u001b[1;32m----> 4\u001b[0m     z \u001b[38;5;241m=\u001b[39m z \u001b[38;5;241m+\u001b[39m \u001b[38;5;241m1\u001b[39m\n\u001b[0;32m      5\u001b[0m     \u001b[38;5;28mprint\u001b[39m(z)\n",
      "\u001b[1;31mUnboundLocalError\u001b[0m: cannot access local variable 'z' where it is not associated with a value"
     ]
    }
   ],
   "source": [
    "# you cannot change a global value from a local reference (user-defined function)\n",
    "z = 7\n",
    "def func5():\n",
    "    z = z + 1\n",
    "    print(z)\n",
    "func5()"
   ]
  },
  {
   "cell_type": "code",
   "execution_count": 154,
   "id": "2b53bdac-2b52-498d-88a1-edaa1e099820",
   "metadata": {},
   "outputs": [
    {
     "name": "stdout",
     "output_type": "stream",
     "text": [
      "8\n"
     ]
    }
   ],
   "source": [
    "# to fix the global value problem\n",
    "z = 7\n",
    "def func6():\n",
    "    global z\n",
    "    z = z + 1\n",
    "    print(z)\n",
    "func6()"
   ]
  },
  {
   "cell_type": "code",
   "execution_count": 160,
   "id": "f906e954-c043-4476-ba83-f1ba9e0027e0",
   "metadata": {},
   "outputs": [],
   "source": [
    "def welcome(*names):\n",
    "    print('Hello', names[0], ',', names[1], 'and ', names[2])"
   ]
  },
  {
   "cell_type": "code",
   "execution_count": 162,
   "id": "d8c149a7-a4a3-408e-b8f0-6229e9204270",
   "metadata": {},
   "outputs": [
    {
     "name": "stdout",
     "output_type": "stream",
     "text": [
      "Hello Bill , Milly and  Dilly\n"
     ]
    }
   ],
   "source": [
    "welcome('Bill', 'Milly', 'Dilly')"
   ]
  },
  {
   "cell_type": "code",
   "execution_count": 166,
   "id": "5fc37012-b62c-4eba-b6f8-9c1a658bb30b",
   "metadata": {},
   "outputs": [
    {
     "name": "stdout",
     "output_type": "stream",
     "text": [
      "Area of Circle with radius 15:  706.5\n",
      "Area of Sphere with radius 10:  1256.0\n"
     ]
    }
   ],
   "source": [
    "# define areas of shapes\n",
    "pi = 3.14\n",
    "def CircleArea(radius):\n",
    "    return pi*radius * radius\n",
    "\n",
    "def SphereArea(radius):\n",
    "    return 4 * pi * radius * radius\n",
    "\n",
    "def main():\n",
    "    print('Area of Circle with radius 15: ', CircleArea(15))\n",
    "    print('Area of Sphere with radius 10: ', SphereArea(10))\n",
    "main()"
   ]
  },
  {
   "cell_type": "code",
   "execution_count": 168,
   "id": "ba5c35af-cb0a-4637-ba32-afdd616fb1e1",
   "metadata": {},
   "outputs": [
    {
     "data": {
      "text/plain": [
       "(1, 2, 3)"
      ]
     },
     "execution_count": 168,
     "metadata": {},
     "output_type": "execute_result"
    }
   ],
   "source": [
    "tuple([1, 2, 3])"
   ]
  },
  {
   "cell_type": "code",
   "execution_count": 170,
   "id": "b5b7e4d9-90ce-45a1-b231-8cb9b94500a3",
   "metadata": {},
   "outputs": [
    {
     "name": "stdout",
     "output_type": "stream",
     "text": [
      "1\n",
      "2\n",
      "3\n",
      "4\n",
      "5\n"
     ]
    }
   ],
   "source": [
    "x = 0\n",
    "while x < 5:\n",
    "    x += 1\n",
    "    print(x)\n"
   ]
  },
  {
   "cell_type": "code",
   "execution_count": 172,
   "id": "061e4363-8f24-48fa-b749-0197ecd55d88",
   "metadata": {},
   "outputs": [
    {
     "name": "stdout",
     "output_type": "stream",
     "text": [
      "0\n",
      "1\n",
      "2\n",
      "3\n",
      "4\n",
      "5\n"
     ]
    }
   ],
   "source": [
    "# range()\n",
    "x = range(6)\n",
    "for n in x:\n",
    "    print(n)"
   ]
  },
  {
   "cell_type": "code",
   "execution_count": 174,
   "id": "65b8e5bd-1df0-46a5-945b-0cbe1a84b3bd",
   "metadata": {},
   "outputs": [
    {
     "name": "stdout",
     "output_type": "stream",
     "text": [
      "HelloWorld\n"
     ]
    }
   ],
   "source": [
    "print(\"Hello\" + \"World\")"
   ]
  },
  {
   "cell_type": "code",
   "execution_count": null,
   "id": "9013467e-ca6c-4d72-b9b0-f552f99b15ce",
   "metadata": {},
   "outputs": [],
   "source": []
  }
 ],
 "metadata": {
  "kernelspec": {
   "display_name": "Python 3 (ipykernel)",
   "language": "python",
   "name": "python3"
  },
  "language_info": {
   "codemirror_mode": {
    "name": "ipython",
    "version": 3
   },
   "file_extension": ".py",
   "mimetype": "text/x-python",
   "name": "python",
   "nbconvert_exporter": "python",
   "pygments_lexer": "ipython3",
   "version": "3.12.4"
  }
 },
 "nbformat": 4,
 "nbformat_minor": 5
}
