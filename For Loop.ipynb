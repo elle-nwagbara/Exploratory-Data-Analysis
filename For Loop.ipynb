{
 "cells": [
  {
   "cell_type": "code",
   "execution_count": 1,
   "id": "90244595-995b-4f55-94cb-a122f2b7cf71",
   "metadata": {},
   "outputs": [
    {
     "name": "stdout",
     "output_type": "stream",
     "text": [
      "p\n",
      "r\n",
      "o\n",
      "g\n",
      "r\n",
      "a\n",
      "m\n",
      "m\n",
      "i\n",
      "n\n",
      "g\n"
     ]
    }
   ],
   "source": [
    "s = 'programming'\n",
    "for i in s:\n",
    "    print(i)"
   ]
  },
  {
   "cell_type": "code",
   "execution_count": 3,
   "id": "a72f4730-b154-42d1-8578-ff7e3e1d3b88",
   "metadata": {},
   "outputs": [
    {
     "name": "stdout",
     "output_type": "stream",
     "text": [
      "p*r*o*g*r*a*m*m*i*n*g*"
     ]
    }
   ],
   "source": [
    "s = 'programming'\n",
    "for i in s:\n",
    "    print(i, end='*')"
   ]
  },
  {
   "cell_type": "code",
   "execution_count": 5,
   "id": "6c0ae56f-a4ab-4133-a150-25f13070ea0b",
   "metadata": {},
   "outputs": [
    {
     "name": "stdout",
     "output_type": "stream",
     "text": [
      "java\n",
      "python\n",
      "ruby\n",
      "HTML\n"
     ]
    }
   ],
   "source": [
    "# Use for loop in a list\n",
    "programming = ['java', 'python', 'ruby', 'HTML']\n",
    "for iter in programming:\n",
    "    print(iter)"
   ]
  },
  {
   "cell_type": "code",
   "execution_count": 17,
   "id": "f1e737b3-d3f9-4055-a826-3c9f5c4cf163",
   "metadata": {},
   "outputs": [
    {
     "name": "stdout",
     "output_type": "stream",
     "text": [
      "Sum = 130\n",
      "Average = 26.0\n"
     ]
    }
   ],
   "source": [
    "# Find the average of a list of numbers\n",
    "list_number = [10, 20, 25, 40, 35]\n",
    "sum = 0\n",
    "for i in list_number:\n",
    "    sum = sum+i\n",
    "print('Sum =', sum)\n",
    "print('Average =', sum/len(list_number))"
   ]
  },
  {
   "cell_type": "code",
   "execution_count": 23,
   "id": "2f4c40af-adf6-498f-afd9-b7223bf81185",
   "metadata": {},
   "outputs": [
    {
     "name": "stdout",
     "output_type": "stream",
     "text": [
      "30\n",
      "75\n",
      "125\n",
      "185\n",
      "255\n"
     ]
    }
   ],
   "source": [
    "# For loop using a tuple\n",
    "num = (30, 45, 50, 60, 70)\n",
    "sum = 0\n",
    "for i in num:\n",
    "    sum = sum + i\n",
    "    print(sum)"
   ]
  },
  {
   "cell_type": "code",
   "execution_count": 25,
   "id": "899b449e-1bdc-4096-a319-ba62104ffb83",
   "metadata": {},
   "outputs": [
    {
     "name": "stdout",
     "output_type": "stream",
     "text": [
      "1\n",
      "2\n",
      "3\n",
      "4\n",
      "5\n",
      "6\n",
      "7\n",
      "8\n",
      "9\n"
     ]
    }
   ],
   "source": [
    "# Range Function\n",
    "\n",
    "for i in range(1, 10):\n",
    "    print(i)"
   ]
  },
  {
   "cell_type": "code",
   "execution_count": 27,
   "id": "b2640051-bb00-4615-a913-ed67dff0c67f",
   "metadata": {},
   "outputs": [
    {
     "name": "stdout",
     "output_type": "stream",
     "text": [
      "Display values with a step size of 2:  0\n",
      "Display values with a step size of 2:  2\n",
      "Display values with a step size of 2:  4\n",
      "Display values with a step size of 2:  6\n",
      "Display values with a step size of 2:  8\n"
     ]
    }
   ],
   "source": [
    "# for step values\n",
    "\n",
    "for i in range(0, 10, 2):\n",
    "    print('Display values with a step size of 2: ', i)"
   ]
  },
  {
   "cell_type": "code",
   "execution_count": 29,
   "id": "1560b6fd-37cc-4528-ac73-5ca10da7f7c3",
   "metadata": {},
   "outputs": [
    {
     "name": "stdin",
     "output_type": "stream",
     "text": [
      "Enter the number: 2\n"
     ]
    },
    {
     "name": "stdout",
     "output_type": "stream",
     "text": [
      "2 * 1 = 2\n",
      "2 * 2 = 4\n",
      "2 * 3 = 6\n",
      "2 * 4 = 8\n",
      "2 * 5 = 10\n",
      "2 * 6 = 12\n",
      "2 * 7 = 14\n",
      "2 * 8 = 16\n",
      "2 * 9 = 18\n",
      "2 * 10 = 20\n"
     ]
    }
   ],
   "source": [
    "# Program to print table of a given number\n",
    "n = int(input('Enter the number:'))\n",
    "for i in range(1, 11):\n",
    "    mul = n*i\n",
    "    print(n, '*', i, '=',mul)"
   ]
  },
  {
   "cell_type": "code",
   "execution_count": 31,
   "id": "0e9e3d1b-be50-4736-b155-decb9f013fff",
   "metadata": {},
   "outputs": [
    {
     "name": "stdout",
     "output_type": "stream",
     "text": [
      "Hello C++\n",
      "Hello java\n",
      "Hello python\n"
     ]
    }
   ],
   "source": [
    "list2 = ['C++', 'java', 'python']\n",
    "for i in range(len(list2)):\n",
    "    print('Hello', list2[i]) "
   ]
  },
  {
   "cell_type": "code",
   "execution_count": 39,
   "id": "81d10556-7ff2-4f58-a20b-119237885e8d",
   "metadata": {},
   "outputs": [
    {
     "name": "stdout",
     "output_type": "stream",
     "text": [
      "We will display each letter of Google\n",
      "G\n",
      "o\n",
      "o\n",
      "g\n",
      "l\n",
      "e\n",
      "We will display each letter of Microsoft\n",
      "M\n",
      "i\n",
      "c\n",
      "r\n",
      "o\n",
      "s\n",
      "o\n",
      "f\n",
      "t\n",
      "We will display each letter of Uber\n",
      "U\n",
      "b\n",
      "e\n",
      "r\n",
      "We will display each letter of PWC\n",
      "P\n",
      "W\n",
      "C\n"
     ]
    }
   ],
   "source": [
    "# Nested For loop\n",
    "companies = ['Google', 'Microsoft', 'Uber', 'PWC']\n",
    "for i in companies:\n",
    "    print('We will display each letter of ' +i)\n",
    "    for letter in i:\n",
    "        print(letter)"
   ]
  },
  {
   "cell_type": "code",
   "execution_count": 43,
   "id": "3eaee766-63b9-4526-9ae0-21bbd9581bc5",
   "metadata": {},
   "outputs": [
    {
     "name": "stdout",
     "output_type": "stream",
     "text": [
      "0\n",
      "3\n",
      "6\n",
      "9\n",
      "The loop has completed execution\n"
     ]
    }
   ],
   "source": [
    "# For loop with else clause\n",
    "for i in range(0, 10, 3):\n",
    "    print(i)\n",
    "else:\n",
    "    print('The loop has completed execution')"
   ]
  },
  {
   "cell_type": "code",
   "execution_count": 54,
   "id": "ab5ec086-65c2-4f72-b5f7-b0f42a58bdc3",
   "metadata": {},
   "outputs": [
    {
     "name": "stdout",
     "output_type": "stream",
     "text": [
      "1\n",
      "2\n",
      "3\n",
      "4\n",
      "5\n"
     ]
    }
   ],
   "source": [
    "# Break\n",
    "for i in range(1, 10):\n",
    "    if (i==6):\n",
    "        break\n",
    "    print(i)"
   ]
  },
  {
   "cell_type": "code",
   "execution_count": 56,
   "id": "124b0f6b-c6cb-4056-a43b-96351d0092a0",
   "metadata": {},
   "outputs": [
    {
     "name": "stdout",
     "output_type": "stream",
     "text": [
      "1\n",
      "2\n",
      "3\n",
      "4\n",
      "5\n",
      "7\n",
      "8\n",
      "9\n"
     ]
    }
   ],
   "source": [
    "# Continue\n",
    "for i in range(1, 10):\n",
    "    if (i==6):\n",
    "        continue\n",
    "    print(i)"
   ]
  },
  {
   "cell_type": "code",
   "execution_count": 60,
   "id": "1076d42f-77e6-4471-80f6-3c5a82cbd5ff",
   "metadata": {},
   "outputs": [
    {
     "name": "stdout",
     "output_type": "stream",
     "text": [
      "7\n"
     ]
    }
   ],
   "source": [
    "# Program to display the total goals a player has scored\n",
    "\n",
    "player_name = 'Carmelo'\n",
    "goals = {'Edison': 14, 'Bennett': 12, 'Carlos':10, 'Carmelo': 7}\n",
    "for player in goals:\n",
    "    if player==player_name:\n",
    "        print(goals[player])\n",
    "        break\n",
    "else: \n",
    "    print('No player with that name found')"
   ]
  },
  {
   "cell_type": "code",
   "execution_count": 62,
   "id": "cfa828f2-0b6a-4406-aad4-522d9b1f2b25",
   "metadata": {},
   "outputs": [
    {
     "name": "stdout",
     "output_type": "stream",
     "text": [
      "[8]\n",
      "[8, 125]\n",
      "[8, 125, 343]\n",
      "[8, 125, 343, 512]\n",
      "[8, 125, 343, 512, 64]\n",
      "[8, 125, 343, 512, 64, 216]\n"
     ]
    }
   ],
   "source": [
    "# Cube of number\n",
    "\n",
    "num = [2, 5, 7, 8, 4, 6]\n",
    "cube = []\n",
    "for i in num:\n",
    "    cube.append(i**3)\n",
    "    print(cube)"
   ]
  },
  {
   "cell_type": "code",
   "execution_count": 68,
   "id": "ad391731-638d-4879-85de-1be78c6c5809",
   "metadata": {},
   "outputs": [
    {
     "name": "stdin",
     "output_type": "stream",
     "text": [
      "Enter the number of rows:  6\n"
     ]
    },
    {
     "name": "stdout",
     "output_type": "stream",
     "text": [
      "* \n",
      "* * \n",
      "* * * \n",
      "* * * * \n",
      "* * * * * \n",
      "* * * * * * \n"
     ]
    }
   ],
   "source": [
    "# Pattern printing\n",
    "n = int(input('Enter the number of rows: '))\n",
    "for i in range(0, n):\n",
    "    for j in range(0, i+1):\n",
    "        print('*', end=' ')\n",
    "    print()"
   ]
  },
  {
   "cell_type": "code",
   "execution_count": null,
   "id": "ed65f6fe-4b1f-4a86-8c48-d359d4f2ba8a",
   "metadata": {},
   "outputs": [],
   "source": []
  }
 ],
 "metadata": {
  "kernelspec": {
   "display_name": "Python 3 (ipykernel)",
   "language": "python",
   "name": "python3"
  },
  "language_info": {
   "codemirror_mode": {
    "name": "ipython",
    "version": 3
   },
   "file_extension": ".py",
   "mimetype": "text/x-python",
   "name": "python",
   "nbconvert_exporter": "python",
   "pygments_lexer": "ipython3",
   "version": "3.12.4"
  }
 },
 "nbformat": 4,
 "nbformat_minor": 5
}
